{
  "cells": [
    {
      "cell_type": "markdown",
      "metadata": {
        "id": "1Lyw35ahWTsk"
      },
      "source": [
        "# Shakespearean Transformer (nano-GPT) with BPE Tokenization\n",
        "\n",
        "This hands-on exercise touches on building and training a miniature version of a Generative Pre-trained Transformer (GPT) model.\n",
        "\n",
        "This notebook is heavily inspired by and simplifies Andrej Karpathy's [nanoGPT repository](https://github.com/karpathy/nanoGPT). The goal is to work on the basics needed to build a character-level language model on the works of Shakespeare.\n",
        "\n",
        "**Why is this exciting?**\n",
        "The Transformer architecture, is the foundation of modern Large Language Models (LLMs). While our model will be much smaller, the fundamental building blocks (like self-attention, positional embeddings, and decoder blocks) are conceptually very similar to those in models like GPT-3, which powered the original ChatGPT. Hopefully this helps gain deeper intuition for how these models work.\n",
        "\n",
        "**Project outline:**\n",
        "1.  **Data Preparation:** Load Shakespeare's text and create a character-level tokenizer.\n",
        "2.  **Model Definition:** Implement the GPT architecture from scratch, including self-attention and transformer blocks.\n",
        "3.  **Training:** Write a simple training loop to teach our model to predict the next character in a sequence.\n",
        "4.  **Generation:** Use our trained model to generate new, Shakespeare-like text."
      ]
    },
    {
      "cell_type": "code",
      "execution_count": 16,
      "metadata": {
        "colab": {
          "base_uri": "https://localhost:8080/"
        },
        "id": "AdGxvM88P90L",
        "outputId": "3dd159e2-7f11-48b1-a1e7-b6abfa1041a3"
      },
      "outputs": [
        {
          "output_type": "stream",
          "name": "stdout",
          "text": [
            "Using device: cuda\n"
          ]
        }
      ],
      "source": [
        "import os\n",
        "import requests\n",
        "import time\n",
        "import math\n",
        "from dataclasses import dataclass\n",
        "import pickle # For saving/loading meta later if needed, though not strictly for tokenizer now\n",
        "from collections import defaultdict, Counter\n",
        "import re\n",
        "\n",
        "import torch\n",
        "import torch.nn as nn\n",
        "from torch.nn import functional as F\n",
        "import numpy as np\n",
        "from tqdm import tqdm # For progress bars\n",
        "\n",
        "# --- Hyperparameters ---\n",
        "BATCH_SIZE = 64\n",
        "BLOCK_SIZE = 256  # Context length\n",
        "MAX_ITERS = 5000\n",
        "EVAL_INTERVAL = 250\n",
        "LEARNING_RATE = 3e-4 # Adjusted from 1e-3, often 3e-4 is a good starting point\n",
        "DEVICE = 'cuda' if torch.cuda.is_available() else 'cpu'\n",
        "N_EMBD = 384\n",
        "N_HEAD = 6\n",
        "N_LAYER = 10\n",
        "DROPOUT = 0.2\n",
        "# AdamW optimizer betas\n",
        "BETA1 = 0.9\n",
        "BETA2 = 0.95\n",
        "# Early stopping\n",
        "EARLY_STOPPING_PATIENCE = 5 # Number of evaluation intervals to wait\n",
        "EVAL_ITERS_FOR_LOSS = 100 # Number of batches to average for loss estimation\n",
        "\n",
        "# For reproducibility\n",
        "torch.manual_seed(1337)\n",
        "if torch.cuda.is_available():\n",
        "    torch.cuda.manual_seed_all(1337)\n",
        "\n",
        "print(f\"Using device: {DEVICE}\")"
      ]
    },
    {
      "cell_type": "markdown",
      "metadata": {
        "id": "BGA8_ajuWrJ0"
      },
      "source": [
        "## 1. Data Loading and Tokenization\n",
        "\n",
        "The first step in any machine learning project is to prepare the data. For our character-level language model, this involves:\n",
        "1.  **Downloading the Data:** We'll use the \"Tiny Shakespeare\" dataset, which contains a collection of Shakespeare's works.\n",
        "2.  **Creating a Vocabulary:** We'll identify all unique characters present in the text. This set of unique characters will form our vocabulary.\n",
        "3.  **Building a Tokenizer:** We'll create two simple functions:\n",
        "    *   `encode`: Converts a string of characters into a list of corresponding integer IDs (tokens).\n",
        "    *   `decode`: Converts a list of integer IDs back into a string of characters.\n",
        "4.  **Splitting the Data:** We'll divide the dataset into a training set (for teaching the model) and a validation set (for evaluating its performance on unseen data)."
      ]
    },
    {
      "cell_type": "code",
      "execution_count": 6,
      "metadata": {
        "colab": {
          "base_uri": "https://localhost:8080/"
        },
        "id": "I-aKr2lTRHv4",
        "outputId": "91b8fe75-6a43-4b90-a6aa-62e375a054f2"
      },
      "outputs": [
        {
          "output_type": "stream",
          "name": "stdout",
          "text": [
            "input.txt already exists.\n",
            "Length of dataset in characters (after dropping lines): 5,447,700\n"
          ]
        },
        {
          "output_type": "stream",
          "name": "stderr",
          "text": [
            "BPE merges: 100%|██████████| 1000/1000 [55:14<00:00,  3.31s/merge]\n"
          ]
        },
        {
          "output_type": "stream",
          "name": "stdout",
          "text": [
            "BPE training took 3314.42 seconds\n",
            "Encoding took 4.78 seconds\n",
            "BPE Vocabulary size: 1,023\n",
            "Train data has 4,902,930 tokens\n",
            "Validation data has 544,770 tokens\n",
            "\n",
            "--- Demonstration ---\n",
            "Original Text: Friends, Romans, countrymen, lend me your ears;\n",
            "Encoded Tokens: [31, 73, 64, 60, 69, 59, 74, 8, 1, 43, 70, 68, 56, 69, 74, 8, 1, 58, 70, 76, 69, 75, 73, 80, 68, 60, 69, 8, 1, 67, 60, 69, 59, 1, 68, 60, 1, 80, 70, 76, 73, 1, 60, 56, 73, 74, 22]\n",
            "Decoded Text: Friends, Romans, countrymen, lend me your ears;\n"
          ]
        }
      ],
      "source": [
        "# --- 1. Data Loading and Tokenization ---\n",
        "input_file_path = 'input.txt'\n",
        "data_url = 'https://ocw.mit.edu/ans7870/6/6.006/s08/lecturenotes/files/t8.shakespeare.txt'\n",
        "\n",
        "if not os.path.exists(input_file_path):\n",
        "    print(f\"Downloading {input_file_path}...\")\n",
        "    with open(input_file_path, 'w', encoding='utf-8') as f:\n",
        "        f.write(requests.get(data_url).text)\n",
        "    print(\"Download complete.\")\n",
        "else:\n",
        "    print(f\"{input_file_path} already exists.\")\n",
        "\n",
        "# Read the data and discard the first 250 lines\n",
        "with open(input_file_path, 'r', encoding='utf-8') as f:\n",
        "    lines = f.readlines()\n",
        "    data = \"\".join(lines[250:]) # Discard the first 250 lines\n",
        "\n",
        "print(f\"Length of dataset in characters (after dropping lines): {len(data):,}\")\n",
        "\n",
        "def get_words(text_data):\n",
        "    tokens = re.findall(r'\\s+|\\w+|[^\\w\\s]', text_data, re.UNICODE)\n",
        "    return tokens\n",
        "\n",
        "# --- Simple Sub-word Tokenization (BPE) ---\n",
        "from collections import Counter, defaultdict\n",
        "from tqdm import tqdm\n",
        "\n",
        "class SimpleBPETokenizer:\n",
        "    def __init__(self, num_merges, min_frequency=2):\n",
        "        self.num_merges = num_merges\n",
        "        self.min_frequency = min_frequency\n",
        "        self.merges = {}\n",
        "        self.vocab = {}\n",
        "        self.itos = {}\n",
        "        self.stoi = {}\n",
        "\n",
        "    def train(self, corpus):\n",
        "        # Ensure corpus is a string\n",
        "        if isinstance(corpus, list):\n",
        "            corpus = \" \".join(corpus)\n",
        "\n",
        "        # Initialize character-level vocab including spaces\n",
        "        initial_tokens = set(corpus)\n",
        "        self.vocab = {token: idx for idx, token in enumerate(sorted(initial_tokens))}\n",
        "        self.itos = {idx: token for token, idx in self.vocab.items()}\n",
        "        self.stoi = dict(self.vocab)\n",
        "\n",
        "        for _ in tqdm(range(self.num_merges), desc=\"BPE merges\", unit=\"merge\"):\n",
        "            pair_counts = defaultdict(int)\n",
        "            for word in corpus.split():  # split by space\n",
        "                tokens = self._tokenize_word(word, self.merges)\n",
        "                for j in range(len(tokens) - 1):\n",
        "                    pair = (tokens[j], tokens[j + 1])\n",
        "                    pair_counts[pair] += 1\n",
        "\n",
        "            # Filter by min_frequency\n",
        "            filtered_pairs = {pair: count for pair, count in pair_counts.items() if count >= self.min_frequency}\n",
        "            if not filtered_pairs:\n",
        "                break\n",
        "\n",
        "            most_frequent_pair = max(filtered_pairs, key=filtered_pairs.get)\n",
        "            new_token = \"\".join(most_frequent_pair)\n",
        "            self.merges[most_frequent_pair] = new_token\n",
        "            new_id = len(self.vocab)\n",
        "            self.vocab[new_token] = new_id\n",
        "            self.itos[new_id] = new_token\n",
        "            self.stoi = dict(self.vocab)\n",
        "\n",
        "    def _tokenize_word(self, word, merges):\n",
        "        tokens = list(word)\n",
        "        while True:\n",
        "            best_pair = None\n",
        "            for pair in zip(tokens[:-1], tokens[1:]):\n",
        "                if pair in merges:\n",
        "                    best_pair = pair\n",
        "                    break\n",
        "            if best_pair is None:\n",
        "                break\n",
        "\n",
        "            new_tokens = []\n",
        "            i = 0\n",
        "            while i < len(tokens):\n",
        "                if i < len(tokens) - 1 and (tokens[i], tokens[i + 1]) == best_pair:\n",
        "                    new_tokens.append(merges[best_pair])\n",
        "                    i += 2\n",
        "                else:\n",
        "                    new_tokens.append(tokens[i])\n",
        "                    i += 1\n",
        "            tokens = new_tokens\n",
        "        return tokens\n",
        "\n",
        "    def encode(self, text):\n",
        "        tokens = []\n",
        "        # Treat every character including spaces\n",
        "        for char in text:\n",
        "            subwords = self._tokenize_word(char, self.merges)\n",
        "            tokens.extend([self.stoi[subword] for subword in subwords if subword in self.stoi])\n",
        "        return tokens\n",
        "\n",
        "    def decode(self, token_ids):\n",
        "        # Join tokens directly, spaces are preserved\n",
        "        return \"\".join([self.itos.get(tok_id, \"\") for tok_id in token_ids])\n",
        "\n",
        "\n",
        "\n",
        "# --- 3. Tokenize Data using BPE ---\n",
        "training_words = get_words(data)\n",
        "bpe_tokenizer = SimpleBPETokenizer(num_merges=1000)\n",
        "\n",
        "start_train = time.time()\n",
        "bpe_tokenizer.train(training_words)\n",
        "print(f\"BPE training took {time.time() - start_train:.2f} seconds\")\n",
        "\n",
        "# Create train and validation splits\n",
        "n = len(data)\n",
        "train_text = data[:int(n * 0.9)]\n",
        "val_text = data[int(n * 0.9):]\n",
        "\n",
        "start_encode = time.time()\n",
        "train_data = torch.tensor(bpe_tokenizer.encode(train_text), dtype=torch.long)\n",
        "val_data = torch.tensor(bpe_tokenizer.encode(val_text), dtype=torch.long)\n",
        "print(f\"Encoding took {time.time() - start_encode:.2f} seconds\")\n",
        "\n",
        "print(f\"BPE Vocabulary size: {len(bpe_tokenizer.vocab):,}\")\n",
        "print(f\"Train data has {len(train_data):,} tokens\")\n",
        "print(f\"Validation data has {len(val_data):,} tokens\")\n",
        "\n",
        "# --- Demonstration of BPE ---\n",
        "sample_text = \"Friends, Romans, countrymen, lend me your ears;\"\n",
        "encoded_tokens = bpe_tokenizer.encode(sample_text)\n",
        "decoded_text = bpe_tokenizer.decode(encoded_tokens)\n",
        "\n",
        "print(\"\\n--- Demonstration ---\")\n",
        "print(f\"Original Text: {sample_text}\")\n",
        "print(f\"Encoded Tokens: {encoded_tokens}\")\n",
        "print(f\"Decoded Text: {decoded_text}\")\n"
      ]
    },
    {
      "cell_type": "code",
      "execution_count": 10,
      "metadata": {
        "colab": {
          "base_uri": "https://localhost:8080/"
        },
        "id": "cco935wtRLmE",
        "outputId": "95177680-cf79-4045-a845-a3c081ab75b9"
      },
      "outputs": [
        {
          "output_type": "stream",
          "name": "stdout",
          "text": [
            "Tokenizer saved to bpe_tokenizer.pkl.\n",
            "Tokenizer loaded from bpe_tokenizer.pkl.\n",
            "Original text: 'Hello, World! This is a test.'\n",
            "Encoded text: [33, 60, 67, 67, 70, 8, 1, 48, 70, 73, 67, 59, 2, 1, 45, 63, 64, 74, 1, 64, 74, 1, 56, 1, 75, 60, 74, 75, 10]\n",
            "Decoded text: 'Hello, World! This is a test.'\n",
            "Tokenizer test passed!\n"
          ]
        }
      ],
      "source": [
        "import pickle\n",
        "\n",
        "# --- Save the trained tokenizer object ---\n",
        "with open(\"bpe_tokenizer.pkl\", \"wb\") as f:\n",
        "    pickle.dump(bpe_tokenizer, f)\n",
        "print(\"Tokenizer saved to bpe_tokenizer.pkl.\")\n",
        "\n",
        "# --- Load tokenizer object directly ---\n",
        "with open(\"bpe_tokenizer.pkl\", \"rb\") as f:\n",
        "    loaded_tokenizer = pickle.load(f)\n",
        "print(\"Tokenizer loaded from bpe_tokenizer.pkl.\")\n",
        "\n",
        "# --- Tokenizer Experimentation ---\n",
        "sample_text = \"Hello, World! This is a test.\"\n",
        "print(f\"Original text: '{sample_text}'\")\n",
        "\n",
        "encoded_sample = loaded_tokenizer.encode(sample_text)\n",
        "print(f\"Encoded text: {encoded_sample}\")\n",
        "\n",
        "decoded_sample = loaded_tokenizer.decode(encoded_sample)\n",
        "print(f\"Decoded text: '{decoded_sample}'\")\n",
        "\n",
        "assert sample_text == decoded_sample, \"Encoding/Decoding mismatch!\"\n",
        "print(\"Tokenizer test passed!\")\n",
        "\n",
        "vocab_size = len(bpe_tokenizer.vocab)\n"
      ]
    },
    {
      "cell_type": "code",
      "execution_count": 8,
      "metadata": {
        "colab": {
          "base_uri": "https://localhost:8080/"
        },
        "id": "3ihert8KRQvf",
        "outputId": "4b182e3e-344d-4f65-9e34-8d811bf772e6"
      },
      "outputs": [
        {
          "output_type": "stream",
          "name": "stdout",
          "text": [
            "Input batch shape: torch.Size([64, 256])\n",
            "Target batch shape: torch.Size([64, 256])\n",
            "First sequence in input batch (first 30 tokens): think I'll weep.\n",
            "     No, I'll not weep.\n",
            "     I have full cause of weeping, but this heart\n",
            "     Shal\n",
            "First sequence in target batch (first 30 tokens): hink I'll weep.\n",
            "     No, I'll not weep.\n",
            "     I have full cause of weeping, but this heart\n",
            "     Shall\n"
          ]
        }
      ],
      "source": [
        "# --- Data Loader ---\n",
        "def get_batch(split):\n",
        "    # Selects the appropriate dataset (train or val)\n",
        "    data_source = train_data if split == 'train' else val_data\n",
        "    # Generates random starting indices for batch_size sequences\n",
        "    ix = torch.randint(len(data_source) - BLOCK_SIZE, (BATCH_SIZE,))\n",
        "    # Extracts input sequences (x)\n",
        "    x = torch.stack([data_source[i:i+BLOCK_SIZE] for i in ix])\n",
        "    # Extracts target sequences (y), which are shifted by one character\n",
        "    y = torch.stack([data_source[i+1:i+BLOCK_SIZE+1] for i in ix])\n",
        "    # Move data to the specified device (CPU or GPU)\n",
        "    x, y = x.to(DEVICE), y.to(DEVICE)\n",
        "    return x, y\n",
        "\n",
        "# Test get_batch\n",
        "xb, yb = get_batch('train')\n",
        "print(\"Input batch shape:\", xb.shape)\n",
        "print(\"Target batch shape:\", yb.shape)\n",
        "print(\"First sequence in input batch (first 30 tokens):\", loaded_tokenizer.decode(xb[0][:100].tolist()))\n",
        "print(\"First sequence in target batch (first 30 tokens):\", loaded_tokenizer.decode(yb[0][:100].tolist()))"
      ]
    },
    {
      "cell_type": "markdown",
      "metadata": {
        "id": "DW9lylKWW1ao"
      },
      "source": [
        "## 2. Model Definition: The Transformer Architecture\n",
        "\n",
        "Now for the exciting part: building our GPT model! We'll implement the core components of the Transformer architecture, specifically the \"decoder-only\" variant used in GPT models.\n",
        "\n",
        "Key components we will define:\n",
        "*   **`GPTConfig`**: A dataclass to hold all our model hyperparameters (like vocabulary size, embedding dimension, number of layers, etc.).\n",
        "*   **`LayerNorm`**: A normalization layer crucial for stabilizing training in deep networks.\n",
        "*   **`CausalSelfAttention`**: The heart of the Transformer! This module allows each token in a sequence to \"attend\" to previous tokens (but not future ones, hence \"causal\") to understand context. We'll implement the scaled dot-product attention mechanism.\n",
        "*   **`MLP` (Multi-Layer Perceptron)**: A simple feed-forward network applied after the attention mechanism in each Transformer block.\n",
        "*   **`Block`**: A single Transformer block, which typically consists of a self-attention layer followed by an MLP, with residual connections and layer normalization.\n",
        "*   **`GPT`**: The main model class that stacks multiple `Block`s, includes token and positional embeddings, and a final linear layer to predict the next token.\n",
        "\n",
        "We'll also explore the model's output *before* any training to understand its initial (random) state and the expected initial loss."
      ]
    },
    {
      "cell_type": "code",
      "execution_count": 11,
      "metadata": {
        "id": "5nODNxK-RUdE"
      },
      "outputs": [],
      "source": [
        "# --- 2. Model Definition ---\n",
        "\n",
        "@dataclass\n",
        "class GPTConfig:\n",
        "    block_size: int = BLOCK_SIZE\n",
        "    vocab_size: int = vocab_size # Will be set by loaded data\n",
        "    n_layer: int = N_LAYER\n",
        "    n_head: int = N_HEAD\n",
        "    n_embd: int = N_EMBD\n",
        "    dropout: float = DROPOUT\n",
        "    bias: bool = True # True: bias in Linears and LayerNorms\n",
        "\n",
        "class LayerNorm(nn.Module):\n",
        "    \"\"\" LayerNorm but with an optional bias. \"\"\"\n",
        "    def __init__(self, ndim, bias):\n",
        "        super().__init__()\n",
        "        self.weight = nn.Parameter(torch.ones(ndim))\n",
        "        self.bias = nn.Parameter(torch.zeros(ndim)) if bias else None\n",
        "\n",
        "    def forward(self, input):\n",
        "        return F.layer_norm(input, self.weight.shape, self.weight, self.bias, 1e-5)\n",
        "\n",
        "class CausalSelfAttention(nn.Module):\n",
        "    def __init__(self, config):\n",
        "        super().__init__()\n",
        "        assert config.n_embd % config.n_head == 0\n",
        "        # Key, query, value projections for all heads, but in a batch\n",
        "        self.c_attn = nn.Linear(config.n_embd, 3 * config.n_embd, bias=config.bias)\n",
        "        # Output projection\n",
        "        self.c_proj = nn.Linear(config.n_embd, config.n_embd, bias=config.bias)\n",
        "        # Regularization\n",
        "        self.attn_dropout = nn.Dropout(config.dropout)\n",
        "        self.resid_dropout = nn.Dropout(config.dropout)\n",
        "        self.n_head = config.n_head\n",
        "        self.n_embd = config.n_embd\n",
        "\n",
        "        # Causal mask to ensure that attention is only applied to the left in the input sequence\n",
        "        # We use register_buffer for parameters that should be part of the model's state\n",
        "        # but are not trained by the optimizer (e.g., a fixed mask).\n",
        "        self.register_buffer(\"bias\", torch.tril(torch.ones(config.block_size, config.block_size))\n",
        "                                    .view(1, 1, config.block_size, config.block_size))\n",
        "\n",
        "    def forward(self, x):\n",
        "        B, T, C = x.size() # batch size, sequence length, embedding dimensionality (n_embd)\n",
        "\n",
        "        # Calculate query, key, values for all heads in batch and move head forward to be the batch dim\n",
        "        q, k, v  = self.c_attn(x).split(self.n_embd, dim=2)\n",
        "        k = k.view(B, T, self.n_head, C // self.n_head).transpose(1, 2) # (B, nh, T, hs)\n",
        "        q = q.view(B, T, self.n_head, C // self.n_head).transpose(1, 2) # (B, nh, T, hs)\n",
        "        v = v.view(B, T, self.n_head, C // self.n_head).transpose(1, 2) # (B, nh, T, hs)\n",
        "\n",
        "        # Manual implementation of attention\n",
        "        # (B, nh, T, hs) x (B, nh, hs, T) -> (B, nh, T, T)\n",
        "        att = (q @ k.transpose(-2, -1)) * (1.0 / math.sqrt(k.size(-1)))\n",
        "        att = att.masked_fill(self.bias[:,:,:T,:T] == 0, float('-inf')) # Apply causal mask\n",
        "        att = F.softmax(att, dim=-1)\n",
        "        att = self.attn_dropout(att)\n",
        "        # (B, nh, T, T) x (B, nh, T, hs) -> (B, nh, T, hs)\n",
        "        y = att @ v\n",
        "        y = y.transpose(1, 2).contiguous().view(B, T, C) # Re-assemble all head outputs side by side\n",
        "\n",
        "        # Output projection\n",
        "        y = self.resid_dropout(self.c_proj(y))\n",
        "        return y\n",
        "\n",
        "class MLP(nn.Module):\n",
        "    def __init__(self, config):\n",
        "        super().__init__()\n",
        "        self.c_fc    = nn.Linear(config.n_embd, 4 * config.n_embd, bias=config.bias)\n",
        "        self.gelu    = nn.GELU() # Using GELU activation\n",
        "        self.c_proj  = nn.Linear(4 * config.n_embd, config.n_embd, bias=config.bias)\n",
        "        self.dropout = nn.Dropout(config.dropout)\n",
        "\n",
        "    def forward(self, x):\n",
        "        x = self.c_fc(x)\n",
        "        x = self.gelu(x)\n",
        "        x = self.c_proj(x)\n",
        "        x = self.dropout(x)\n",
        "        return x\n",
        "\n",
        "class Block(nn.Module):\n",
        "    \"\"\" Transformer block: communication followed by computation \"\"\"\n",
        "    def __init__(self, config):\n",
        "        super().__init__()\n",
        "        self.ln_1 = LayerNorm(config.n_embd, bias=config.bias)\n",
        "        self.attn = CausalSelfAttention(config)\n",
        "        self.ln_2 = LayerNorm(config.n_embd, bias=config.bias)\n",
        "        self.mlp = MLP(config)\n",
        "\n",
        "    def forward(self, x):\n",
        "        x = x + self.attn(self.ln_1(x))  # Attention with residual connection\n",
        "        x = x + self.mlp(self.ln_2(x))   # MLP with residual connection\n",
        "        return x"
      ]
    },
    {
      "cell_type": "code",
      "execution_count": 12,
      "metadata": {
        "id": "Zy_tgqySRgax"
      },
      "outputs": [],
      "source": [
        "class GPT(nn.Module):\n",
        "    def __init__(self, config):\n",
        "        super().__init__()\n",
        "        assert config.vocab_size is not None\n",
        "        assert config.block_size is not None\n",
        "        self.config = config\n",
        "\n",
        "        self.transformer = nn.ModuleDict(dict(\n",
        "            wte = nn.Embedding(config.vocab_size, config.n_embd),      # Token embeddings\n",
        "            wpe = nn.Embedding(config.block_size, config.n_embd),     # Positional embeddings\n",
        "            drop = nn.Dropout(config.dropout),                        # Dropout layer\n",
        "            h = nn.ModuleList([Block(config) for _ in range(config.n_layer)]), # Transformer blocks\n",
        "            ln_f = LayerNorm(config.n_embd, bias=config.bias),        # Final layer norm\n",
        "        ))\n",
        "        self.lm_head = nn.Linear(config.n_embd, config.vocab_size, bias=False) # Language model head\n",
        "\n",
        "        # Weight tying: token embeddings and final linear layer share weights\n",
        "        self.transformer.wte.weight = self.lm_head.weight\n",
        "\n",
        "        # Initialize weights\n",
        "        self.apply(self._init_weights)\n",
        "        # Apply special scaled init to the residual projections, per GPT-2 paper\n",
        "        for pn, p in self.named_parameters():\n",
        "            if pn.endswith('c_proj.weight'):\n",
        "                torch.nn.init.normal_(p, mean=0.0, std=0.02/math.sqrt(2 * config.n_layer))\n",
        "\n",
        "        num_params = sum(p.numel() for p in self.parameters() if p.requires_grad)\n",
        "        print(f\"Number of trainable parameters: {num_params/1e6:.2f}M\")\n",
        "\n",
        "    def _init_weights(self, module):\n",
        "        if isinstance(module, nn.Linear):\n",
        "            torch.nn.init.normal_(module.weight, mean=0.0, std=0.02)\n",
        "            if module.bias is not None:\n",
        "                torch.nn.init.zeros_(module.bias)\n",
        "        elif isinstance(module, nn.Embedding):\n",
        "            torch.nn.init.normal_(module.weight, mean=0.0, std=0.02)\n",
        "\n",
        "    def forward(self, idx, targets=None):\n",
        "        device = idx.device\n",
        "        b, t = idx.size() # Batch size, sequence length\n",
        "        assert t <= self.config.block_size, f\"Cannot forward sequence of length {t}, block size is only {self.config.block_size}\"\n",
        "        pos = torch.arange(0, t, dtype=torch.long, device=device) # Shape (t)\n",
        "\n",
        "        # Forward the GPT model\n",
        "        tok_emb = self.transformer.wte(idx) # Token embeddings of shape (b, t, n_embd)\n",
        "        pos_emb = self.transformer.wpe(pos) # Position embeddings of shape (t, n_embd)\n",
        "        x = self.transformer.drop(tok_emb + pos_emb)\n",
        "        for block in self.transformer.h:\n",
        "            x = block(x)\n",
        "        x = self.transformer.ln_f(x)\n",
        "\n",
        "        if targets is not None:\n",
        "            # If we are given some desired targets also calculate the loss\n",
        "            logits = self.lm_head(x) # (b, t, vocab_size)\n",
        "            loss = F.cross_entropy(logits.view(-1, logits.size(-1)), targets.view(-1))\n",
        "        else:\n",
        "            # Inference-time optimization: only forward the lm_head on the very last position\n",
        "            logits = self.lm_head(x[:, [-1], :]) # Note: using list [-1] to preserve the time dim -> (b, 1, vocab_size)\n",
        "            loss = None\n",
        "        return logits, loss\n",
        "\n",
        "    @torch.no_grad()\n",
        "    def generate(self, idx, max_new_tokens, temperature=1.0, top_k=None):\n",
        "        \"\"\"\n",
        "        Take a conditioning sequence of indices idx (LongTensor of shape (b,t)) and complete\n",
        "        the sequence max_new_tokens times, feeding the predictions back into the model each time.\n",
        "        \"\"\"\n",
        "        self.eval() # Set model to evaluation mode\n",
        "        for _ in range(max_new_tokens):\n",
        "            # If the sequence context is growing too long, crop it at block_size\n",
        "            idx_cond = idx if idx.size(1) <= self.config.block_size else idx[:, -self.config.block_size:]\n",
        "            # Forward the model to get the logits for the index in the sequence\n",
        "            logits, _ = self(idx_cond) # Loss is None during generation\n",
        "            # Pluck the logits at the final step and scale by desired temperature\n",
        "            logits = logits[:, -1, :] / temperature\n",
        "            # Optionally crop the logits to only the top k options\n",
        "            if top_k is not None:\n",
        "                v, _ = torch.topk(logits, min(top_k, logits.size(-1)))\n",
        "                logits[logits < v[:, [-1]]] = -float('Inf') # Mask non-top-k logits\n",
        "            # Apply softmax to convert logits to (normalized) probabilities\n",
        "            probs = F.softmax(logits, dim=-1)\n",
        "            # Sample from the distribution\n",
        "            idx_next = torch.multinomial(probs, num_samples=1)\n",
        "            # Append sampled index to the running sequence and continue\n",
        "            idx = torch.cat((idx, idx_next), dim=1)\n",
        "        self.train() # Set model back to training mode if used elsewhere\n",
        "        return idx"
      ]
    },
    {
      "cell_type": "code",
      "execution_count": 17,
      "metadata": {
        "colab": {
          "base_uri": "https://localhost:8080/"
        },
        "id": "4WVoHathRq0E",
        "outputId": "ab5bc587-1341-4460-d7ab-5012b5f6a008"
      },
      "outputs": [
        {
          "output_type": "stream",
          "name": "stdout",
          "text": [
            "Number of trainable parameters: 18.24M\n",
            "--- Before Training ---\n",
            "Logits shape: torch.Size([64, 256, 1023])\n",
            "Initial loss: 6.855808734893799\n",
            "Expected initial loss (approx -ln(1/vocab_size)): 6.9305\n",
            "Logits for the first token prediction in the first sequence (first 10 values): tensor([ 0.1112,  0.3710,  0.6394, -0.4221,  0.1925,  0.5556,  0.4003,  0.1992,\n",
            "        -0.0651,  0.4096], device='cuda:0', grad_fn=<SliceBackward0>)\n"
          ]
        }
      ],
      "source": [
        "# --- Model Initialization and Initial Exploration ---\n",
        "\n",
        "# Create GPTConfig instance\n",
        "model_config = GPTConfig(vocab_size=vocab_size, block_size=BLOCK_SIZE,\n",
        "                         n_layer=N_LAYER, n_head=N_HEAD, n_embd=N_EMBD, dropout=DROPOUT)\n",
        "\n",
        "# Instantiate the model\n",
        "model = GPT(model_config)\n",
        "model.to(DEVICE)\n",
        "\n",
        "# Get a batch of data\n",
        "xb, yb = get_batch('train')\n",
        "\n",
        "print(\"--- Before Training ---\")\n",
        "# Pass the batch through the UNTRAINED model\n",
        "logits, loss = model(xb, yb)\n",
        "\n",
        "print(\"Logits shape:\", logits.shape) # Should be (BATCH_SIZE, BLOCK_SIZE, vocab_size)\n",
        "print(\"Initial loss:\", loss.item())\n",
        "\n",
        "# For a randomly initialized model, the loss should be roughly -ln(1/vocab_size)\n",
        "# This is because the model initially assigns roughly equal probability to each token in the vocabulary.\n",
        "# The cross-entropy loss for a uniform distribution over V classes is -sum( (1/V) * log(1/V) ) = -V * (1/V) * log(1/V) = -log(1/V) = log(V)\n",
        "expected_loss = -math.log(1.0 / vocab_size)\n",
        "print(f\"Expected initial loss (approx -ln(1/vocab_size)): {expected_loss:.4f}\")\n",
        "# The actual initial loss will vary due to specific weight initialization but should be in this ballpark.\n",
        "\n",
        "# Let's look at the logits for the first token prediction in the first sequence\n",
        "first_token_logits = logits[0, 0, :]\n",
        "print(\"Logits for the first token prediction in the first sequence (first 10 values):\", first_token_logits[:10])\n",
        "# These are raw, unnormalized scores for each possible next character.\n",
        "# After softmax, these would turn into probabilities."
      ]
    },
    {
      "cell_type": "code",
      "execution_count": 18,
      "metadata": {
        "id": "ZNucyqirRtaZ"
      },
      "outputs": [],
      "source": [
        "# --- Evaluation Function ---\n",
        "@torch.no_grad() # Decorator to disable gradient calculations during evaluation\n",
        "def estimate_loss(model_to_eval):\n",
        "    out = {}\n",
        "    model_to_eval.eval() # Set the model to evaluation mode\n",
        "    for split in ['train', 'val']:\n",
        "        losses = torch.zeros(EVAL_ITERS_FOR_LOSS) # Array to store losses for averaging\n",
        "        for k in range(EVAL_ITERS_FOR_LOSS):\n",
        "            X, Y = get_batch(split)\n",
        "            _, current_loss = model_to_eval(X, Y)\n",
        "            losses[k] = current_loss.item()\n",
        "        out[split] = losses.mean() # Average loss over EVAL_ITERS_FOR_LOSS batches\n",
        "    model_to_eval.train() # Set the model back to training mode\n",
        "    return out"
      ]
    },
    {
      "cell_type": "markdown",
      "metadata": {
        "id": "T0Chb-oYW_2W"
      },
      "source": [
        "## 3. Training the Model\n",
        "\n",
        "With the data prepared and model defined, we're ready to train! The training process involves:\n",
        "1.  **Loss Estimation:** We'll define a helper function (`estimate_loss`) to calculate the model's performance (cross-entropy loss) on both the training and validation sets without updating its weights. This helps us monitor learning and detect overfitting.\n",
        "2.  **Optimizer:** We'll use the AdamW optimizer, a common choice for training Transformers.\n",
        "3.  **Training Loop:**\n",
        "    *   Repeatedly sample batches of data.\n",
        "    *   Perform a **forward pass**: Feed the input batch to the model to get predictions (logits) and calculate the loss.\n",
        "    *   Perform a **backward pass**: Calculate gradients of the loss with respect to the model's parameters.\n",
        "    *   **Update parameters**: Adjust the model's weights using the optimizer to minimize the loss.\n",
        "4.  **Evaluation & Checkpointing:** Periodically, we'll evaluate the model on the validation set. If the validation loss improves, we'll save a \"checkpoint\" of the model's weights.\n",
        "5.  **Early Stopping:** If the validation loss stops improving for a certain number of evaluations, we'll stop training to prevent overfitting.\n",
        "\n",
        "We'll use `tqdm` to display a progress bar during training."
      ]
    },
    {
      "cell_type": "code",
      "execution_count": 20,
      "metadata": {
        "colab": {
          "base_uri": "https://localhost:8080/"
        },
        "id": "-g-m4EsXR64X",
        "outputId": "1536e27e-68d6-4be5-8710-41967a526d8d"
      },
      "outputs": [
        {
          "output_type": "stream",
          "name": "stdout",
          "text": [
            "Starting training on cuda...\n"
          ]
        },
        {
          "output_type": "stream",
          "name": "stderr",
          "text": [
            "Training Progress:   0%|          | 1/10000 [00:11<31:12:07, 11.23s/it]"
          ]
        },
        {
          "output_type": "stream",
          "name": "stdout",
          "text": [
            "Step     0: Train loss 2.5254, Val loss 2.5419\n",
            "  -> New best validation loss: 2.5419. Model saved to best_shakespeare_model.pth\n"
          ]
        },
        {
          "output_type": "stream",
          "name": "stderr",
          "text": [
            "Training Progress:   3%|▎         | 251/10000 [01:03<9:31:09,  3.52s/it]"
          ]
        },
        {
          "output_type": "stream",
          "name": "stdout",
          "text": [
            "Step   250: Train loss 2.0729, Val loss 2.0845\n",
            "  -> New best validation loss: 2.0845. Model saved to best_shakespeare_model.pth\n"
          ]
        },
        {
          "output_type": "stream",
          "name": "stderr",
          "text": [
            "Training Progress:   5%|▌         | 501/10000 [01:56<9:16:37,  3.52s/it]"
          ]
        },
        {
          "output_type": "stream",
          "name": "stdout",
          "text": [
            "Step   500: Train loss 1.7602, Val loss 1.7825\n",
            "  -> New best validation loss: 1.7825. Model saved to best_shakespeare_model.pth\n"
          ]
        },
        {
          "output_type": "stream",
          "name": "stderr",
          "text": [
            "Training Progress:   8%|▊         | 751/10000 [02:48<9:01:50,  3.52s/it]"
          ]
        },
        {
          "output_type": "stream",
          "name": "stdout",
          "text": [
            "Step   750: Train loss 1.5435, Val loss 1.6032\n",
            "  -> New best validation loss: 1.6032. Model saved to best_shakespeare_model.pth\n"
          ]
        },
        {
          "output_type": "stream",
          "name": "stderr",
          "text": [
            "Training Progress:  10%|█         | 1001/10000 [03:41<8:47:35,  3.52s/it]"
          ]
        },
        {
          "output_type": "stream",
          "name": "stdout",
          "text": [
            "Step  1000: Train loss 1.4195, Val loss 1.4932\n",
            "  -> New best validation loss: 1.4932. Model saved to best_shakespeare_model.pth\n"
          ]
        },
        {
          "output_type": "stream",
          "name": "stderr",
          "text": [
            "Training Progress:  13%|█▎        | 1251/10000 [04:34<8:33:06,  3.52s/it]"
          ]
        },
        {
          "output_type": "stream",
          "name": "stdout",
          "text": [
            "Step  1250: Train loss 1.3378, Val loss 1.4427\n",
            "  -> New best validation loss: 1.4427. Model saved to best_shakespeare_model.pth\n"
          ]
        },
        {
          "output_type": "stream",
          "name": "stderr",
          "text": [
            "Training Progress:  15%|█▌        | 1501/10000 [05:26<8:18:18,  3.52s/it]"
          ]
        },
        {
          "output_type": "stream",
          "name": "stdout",
          "text": [
            "Step  1500: Train loss 1.2841, Val loss 1.3997\n",
            "  -> New best validation loss: 1.3997. Model saved to best_shakespeare_model.pth\n"
          ]
        },
        {
          "output_type": "stream",
          "name": "stderr",
          "text": [
            "Training Progress:  18%|█▊        | 1751/10000 [06:19<8:03:29,  3.52s/it]"
          ]
        },
        {
          "output_type": "stream",
          "name": "stdout",
          "text": [
            "Step  1750: Train loss 1.2381, Val loss 1.3746\n",
            "  -> New best validation loss: 1.3746. Model saved to best_shakespeare_model.pth\n"
          ]
        },
        {
          "output_type": "stream",
          "name": "stderr",
          "text": [
            "Training Progress:  20%|██        | 2001/10000 [07:12<7:49:04,  3.52s/it]"
          ]
        },
        {
          "output_type": "stream",
          "name": "stdout",
          "text": [
            "Step  2000: Train loss 1.2117, Val loss 1.3572\n",
            "  -> New best validation loss: 1.3572. Model saved to best_shakespeare_model.pth\n"
          ]
        },
        {
          "output_type": "stream",
          "name": "stderr",
          "text": [
            "Training Progress:  23%|██▎       | 2251/10000 [08:04<7:34:10,  3.52s/it]"
          ]
        },
        {
          "output_type": "stream",
          "name": "stdout",
          "text": [
            "Step  2250: Train loss 1.1799, Val loss 1.3322\n",
            "  -> New best validation loss: 1.3322. Model saved to best_shakespeare_model.pth\n"
          ]
        },
        {
          "output_type": "stream",
          "name": "stderr",
          "text": [
            "Training Progress:  25%|██▌       | 2501/10000 [08:57<7:19:17,  3.51s/it]"
          ]
        },
        {
          "output_type": "stream",
          "name": "stdout",
          "text": [
            "Step  2500: Train loss 1.1570, Val loss 1.3140\n",
            "  -> New best validation loss: 1.3140. Model saved to best_shakespeare_model.pth\n"
          ]
        },
        {
          "output_type": "stream",
          "name": "stderr",
          "text": [
            "Training Progress:  28%|██▊       | 2751/10000 [09:49<7:04:57,  3.52s/it]"
          ]
        },
        {
          "output_type": "stream",
          "name": "stdout",
          "text": [
            "Step  2750: Train loss 1.1408, Val loss 1.3114\n",
            "  -> New best validation loss: 1.3114. Model saved to best_shakespeare_model.pth\n"
          ]
        },
        {
          "output_type": "stream",
          "name": "stderr",
          "text": [
            "Training Progress:  30%|███       | 3001/10000 [10:42<6:50:08,  3.52s/it]"
          ]
        },
        {
          "output_type": "stream",
          "name": "stdout",
          "text": [
            "Step  3000: Train loss 1.1237, Val loss 1.2839\n",
            "  -> New best validation loss: 1.2839. Model saved to best_shakespeare_model.pth\n"
          ]
        },
        {
          "output_type": "stream",
          "name": "stderr",
          "text": [
            "Training Progress:  33%|███▎      | 3251/10000 [11:35<6:35:55,  3.52s/it]"
          ]
        },
        {
          "output_type": "stream",
          "name": "stdout",
          "text": [
            "Step  3250: Train loss 1.1071, Val loss 1.2754\n",
            "  -> New best validation loss: 1.2754. Model saved to best_shakespeare_model.pth\n"
          ]
        },
        {
          "output_type": "stream",
          "name": "stderr",
          "text": [
            "Training Progress:  35%|███▌      | 3502/10000 [12:27<4:28:47,  2.48s/it]"
          ]
        },
        {
          "output_type": "stream",
          "name": "stdout",
          "text": [
            "Step  3500: Train loss 1.0929, Val loss 1.2756\n"
          ]
        },
        {
          "output_type": "stream",
          "name": "stderr",
          "text": [
            "Training Progress:  38%|███▊      | 3751/10000 [13:20<6:06:18,  3.52s/it]"
          ]
        },
        {
          "output_type": "stream",
          "name": "stdout",
          "text": [
            "Step  3750: Train loss 1.0847, Val loss 1.2670\n",
            "  -> New best validation loss: 1.2670. Model saved to best_shakespeare_model.pth\n"
          ]
        },
        {
          "output_type": "stream",
          "name": "stderr",
          "text": [
            "Training Progress:  40%|████      | 4001/10000 [14:12<5:51:14,  3.51s/it]"
          ]
        },
        {
          "output_type": "stream",
          "name": "stdout",
          "text": [
            "Step  4000: Train loss 1.0739, Val loss 1.2575\n",
            "  -> New best validation loss: 1.2575. Model saved to best_shakespeare_model.pth\n"
          ]
        },
        {
          "output_type": "stream",
          "name": "stderr",
          "text": [
            "Training Progress:  43%|████▎     | 4251/10000 [15:05<5:36:48,  3.52s/it]"
          ]
        },
        {
          "output_type": "stream",
          "name": "stdout",
          "text": [
            "Step  4250: Train loss 1.0648, Val loss 1.2536\n",
            "  -> New best validation loss: 1.2536. Model saved to best_shakespeare_model.pth\n"
          ]
        },
        {
          "output_type": "stream",
          "name": "stderr",
          "text": [
            "Training Progress:  45%|████▌     | 4501/10000 [15:58<5:22:33,  3.52s/it]"
          ]
        },
        {
          "output_type": "stream",
          "name": "stdout",
          "text": [
            "Step  4500: Train loss 1.0522, Val loss 1.2428\n",
            "  -> New best validation loss: 1.2428. Model saved to best_shakespeare_model.pth\n"
          ]
        },
        {
          "output_type": "stream",
          "name": "stderr",
          "text": [
            "Training Progress:  48%|████▊     | 4751/10000 [16:50<5:07:42,  3.52s/it]"
          ]
        },
        {
          "output_type": "stream",
          "name": "stdout",
          "text": [
            "Step  4750: Train loss 1.0432, Val loss 1.2349\n",
            "  -> New best validation loss: 1.2349. Model saved to best_shakespeare_model.pth\n"
          ]
        },
        {
          "output_type": "stream",
          "name": "stderr",
          "text": [
            "Training Progress:  50%|█████     | 5001/10000 [17:43<4:52:58,  3.52s/it]"
          ]
        },
        {
          "output_type": "stream",
          "name": "stdout",
          "text": [
            "Step  5000: Train loss 1.0405, Val loss 1.2315\n",
            "  -> New best validation loss: 1.2315. Model saved to best_shakespeare_model.pth\n"
          ]
        },
        {
          "output_type": "stream",
          "name": "stderr",
          "text": [
            "Training Progress:  53%|█████▎    | 5252/10000 [18:35<3:16:12,  2.48s/it]"
          ]
        },
        {
          "output_type": "stream",
          "name": "stdout",
          "text": [
            "Step  5250: Train loss 1.0239, Val loss 1.2401\n"
          ]
        },
        {
          "output_type": "stream",
          "name": "stderr",
          "text": [
            "Training Progress:  55%|█████▌    | 5501/10000 [19:28<4:23:54,  3.52s/it]"
          ]
        },
        {
          "output_type": "stream",
          "name": "stdout",
          "text": [
            "Step  5500: Train loss 1.0124, Val loss 1.2247\n",
            "  -> New best validation loss: 1.2247. Model saved to best_shakespeare_model.pth\n"
          ]
        },
        {
          "output_type": "stream",
          "name": "stderr",
          "text": [
            "Training Progress:  58%|█████▊    | 5751/10000 [20:21<4:09:02,  3.52s/it]"
          ]
        },
        {
          "output_type": "stream",
          "name": "stdout",
          "text": [
            "Step  5750: Train loss 1.0118, Val loss 1.2217\n",
            "  -> New best validation loss: 1.2217. Model saved to best_shakespeare_model.pth\n"
          ]
        },
        {
          "output_type": "stream",
          "name": "stderr",
          "text": [
            "Training Progress:  60%|██████    | 6002/10000 [21:13<2:45:09,  2.48s/it]"
          ]
        },
        {
          "output_type": "stream",
          "name": "stdout",
          "text": [
            "Step  6000: Train loss 1.0045, Val loss 1.2243\n"
          ]
        },
        {
          "output_type": "stream",
          "name": "stderr",
          "text": [
            "Training Progress:  63%|██████▎   | 6251/10000 [22:06<3:39:45,  3.52s/it]"
          ]
        },
        {
          "output_type": "stream",
          "name": "stdout",
          "text": [
            "Step  6250: Train loss 0.9942, Val loss 1.2167\n",
            "  -> New best validation loss: 1.2167. Model saved to best_shakespeare_model.pth\n"
          ]
        },
        {
          "output_type": "stream",
          "name": "stderr",
          "text": [
            "Training Progress:  65%|██████▌   | 6501/10000 [22:58<3:24:52,  3.51s/it]"
          ]
        },
        {
          "output_type": "stream",
          "name": "stdout",
          "text": [
            "Step  6500: Train loss 0.9855, Val loss 1.2076\n",
            "  -> New best validation loss: 1.2076. Model saved to best_shakespeare_model.pth\n"
          ]
        },
        {
          "output_type": "stream",
          "name": "stderr",
          "text": [
            "Training Progress:  68%|██████▊   | 6752/10000 [23:51<2:14:07,  2.48s/it]"
          ]
        },
        {
          "output_type": "stream",
          "name": "stdout",
          "text": [
            "Step  6750: Train loss 0.9834, Val loss 1.2102\n"
          ]
        },
        {
          "output_type": "stream",
          "name": "stderr",
          "text": [
            "Training Progress:  70%|███████   | 7002/10000 [24:43<2:03:49,  2.48s/it]"
          ]
        },
        {
          "output_type": "stream",
          "name": "stdout",
          "text": [
            "Step  7000: Train loss 0.9788, Val loss 1.2190\n"
          ]
        },
        {
          "output_type": "stream",
          "name": "stderr",
          "text": [
            "Training Progress:  73%|███████▎  | 7252/10000 [25:36<1:53:30,  2.48s/it]"
          ]
        },
        {
          "output_type": "stream",
          "name": "stdout",
          "text": [
            "Step  7250: Train loss 0.9652, Val loss 1.2116\n"
          ]
        },
        {
          "output_type": "stream",
          "name": "stderr",
          "text": [
            "Training Progress:  75%|███████▌  | 7502/10000 [26:28<1:43:10,  2.48s/it]"
          ]
        },
        {
          "output_type": "stream",
          "name": "stdout",
          "text": [
            "Step  7500: Train loss 0.9617, Val loss 1.2102\n"
          ]
        },
        {
          "output_type": "stream",
          "name": "stderr",
          "text": [
            "Training Progress:  78%|███████▊  | 7750/10000 [27:21<07:56,  4.72it/s]"
          ]
        },
        {
          "output_type": "stream",
          "name": "stdout",
          "text": [
            "Step  7750: Train loss 0.9542, Val loss 1.2097\n",
            "Early stopping triggered at iteration 7750 after 5 evaluation intervals without improvement.\n",
            "--- Training Finished ---\n",
            "Total training time: 27.35 minutes\n",
            "Best validation loss achieved: 1.2076\n",
            "Loading best model weights for generation...\n"
          ]
        },
        {
          "output_type": "stream",
          "name": "stderr",
          "text": [
            "\n"
          ]
        }
      ],
      "source": [
        "# --- 3. Training Loop ---\n",
        "print(f\"Starting training on {DEVICE}...\")\n",
        "\n",
        "MAX_ITERS = 10000\n",
        "# Optimizer (AdamW is a common choice for transformers)\n",
        "optimizer = torch.optim.AdamW(model.parameters(), lr=LEARNING_RATE, betas=(BETA1, BETA2))\n",
        "\n",
        "best_val_loss = float('inf')\n",
        "epochs_no_improve = 0\n",
        "train_loss_history = []\n",
        "val_loss_history = []\n",
        "iter_history = []\n",
        "\n",
        "# For timing\n",
        "overall_start_time = time.time()\n",
        "\n",
        "# Wrap the main loop with tqdm for a progress bar\n",
        "for iter_num in tqdm(range(MAX_ITERS), desc=\"Training Progress\"):\n",
        "    # iter_start_time = time.time() # tqdm provides timing per iteration\n",
        "\n",
        "    # Every EVAL_INTERVAL, estimate loss on train and val sets\n",
        "    if iter_num % EVAL_INTERVAL == 0 or iter_num == MAX_ITERS - 1:\n",
        "        losses = estimate_loss(model) # This already sets model.eval() and model.train()\n",
        "        train_loss_history.append(losses['train'].item())\n",
        "        val_loss_history.append(losses['val'].item())\n",
        "        iter_history.append(iter_num)\n",
        "\n",
        "        # tqdm will show iteration/s, so manual timing print might be redundant\n",
        "        # elapsed_iter_time = time.time() - iter_start_time\n",
        "        # print(f\"Step {iter_num}: Train loss {losses['train']:.4f}, Val loss {losses['val']:.4f}, Iter time: {elapsed_iter_time:.2f}s\")\n",
        "\n",
        "        # Log to tqdm's postfix\n",
        "        tqdm.write(f\"Step {iter_num:5d}: Train loss {losses['train']:.4f}, Val loss {losses['val']:.4f}\")\n",
        "\n",
        "\n",
        "        if losses['val'] < best_val_loss:\n",
        "            best_val_loss = losses['val']\n",
        "            epochs_no_improve = 0\n",
        "            # Save the best model checkpoint to the Colab instance's local storage\n",
        "            # This file will be lost if the Colab runtime is disconnected or reset unless moved.\n",
        "            torch.save(model.state_dict(), 'best_shakespeare_model.pth')\n",
        "            tqdm.write(f\"  -> New best validation loss: {best_val_loss:.4f}. Model saved to best_shakespeare_model.pth\")\n",
        "        else:\n",
        "            epochs_no_improve += 1\n",
        "\n",
        "        if epochs_no_improve >= EARLY_STOPPING_PATIENCE:\n",
        "            tqdm.write(f\"Early stopping triggered at iteration {iter_num} after {EARLY_STOPPING_PATIENCE} evaluation intervals without improvement.\")\n",
        "            break # Exit the training loop\n",
        "\n",
        "    # Sample a batch of data\n",
        "    xb, yb = get_batch('train')\n",
        "\n",
        "    # Forward pass: evaluate loss\n",
        "    logits, loss = model(xb, yb)\n",
        "\n",
        "    # Backward pass and optimization step\n",
        "    optimizer.zero_grad(set_to_none=True) # Zero out gradients from previous iteration\n",
        "    loss.backward()                       # Compute gradients\n",
        "    optimizer.step()                      # Update model parameters\n",
        "\n",
        "overall_end_time = time.time()\n",
        "print(f\"--- Training Finished ---\")\n",
        "print(f\"Total training time: {(overall_end_time - overall_start_time)/60:.2f} minutes\")\n",
        "print(f\"Best validation loss achieved: {best_val_loss:.4f}\")\n",
        "\n",
        "# Load the best model weights after training is complete (or early stopped)\n",
        "# This ensures the 'model' variable holds the best performing weights for generation.\n",
        "if os.path.exists('best_shakespeare_model.pth'):\n",
        "    print(\"Loading best model weights for generation...\")\n",
        "    model.load_state_dict(torch.load('best_shakespeare_model.pth', map_location=DEVICE))\n",
        "else:\n",
        "    print(\"Warning: No 'best_shakespeare_model.pth' found. Using current model state (likely the last trained state) for generation.\")"
      ]
    },
    {
      "cell_type": "markdown",
      "metadata": {
        "id": "hWjsFttMXR5e"
      },
      "source": [
        "## 4. Generating Text with the Trained Model\n",
        "\n",
        "After training (or loading our best checkpoint), our model should have learned the patterns and style of Shakespearean English. Now, we can use it as a generative model:\n",
        "1.  **Provide a Prompt:** We'll give the model a starting sequence of characters (a \"prompt\").\n",
        "2.  **Predict Next Character:** The model will predict the probability distribution for the next character.\n",
        "3.  **Sample:** We'll sample a character from this distribution (we can use `temperature` to control randomness and `top_k` to limit choices).\n",
        "4.  **Append and Repeat:** Append the sampled character to our sequence and feed the new, longer sequence back into the model to generate the next character. We repeat this process to generate new text.\n",
        "\n",
        "Let's see if our model can write some \"new\" Shakespeare!"
      ]
    },
    {
      "cell_type": "code",
      "execution_count": 31,
      "metadata": {
        "colab": {
          "base_uri": "https://localhost:8080/"
        },
        "id": "883M7aH8R-AF",
        "outputId": "45eb6d7c-d6b5-4b12-cdbc-d52b3230a97a"
      },
      "outputs": [
        {
          "output_type": "stream",
          "name": "stdout",
          "text": [
            "\n",
            "--- Generating Shakespeare-like text ---\n",
            "Starting prompt: 'The king is dead!'\n",
            "\n",
            "--- Generated Text ---\n",
            "The king is dead! What breaker, stay!\n",
            "    They are provented the King in the one,\n",
            "    Such many such a palace that makes your princes,\n",
            "    And so am I do make you between them.\n",
            "    But merry was incens'd to say well to-morrow.\n",
            "    But good to me, I shall not come to my master.\n",
            "    Then, I am not convenient. Do so, fair father;\n",
            "    Father, father, for I do obtain the sight,\n",
            "    And with thee had a sport of guiltless knowledge,\n",
            "    And many bands of meat thee made thee hears,\n",
            "    And stretch thee from the mercy and loyalty.\n",
            "    And yet, gentle lord, I am almost fond;\n",
            "    Yet, so I think I would not make thee end.\n",
            "    Henry, lords, a lovely roof and depart;\n",
            "    Where stands thy brother is of thy heart.\n",
            "    There is thy life, and lives no slow.\n",
            "  KING RICHARD. Upon the troops of thy heavy hearts.\n",
            "                                                       What plays  \n",
            "    Where is it?\n",
            "  WARWICK. Sir Richard Bolingbroke.\n",
            "  KING RICHARD. Was it a dagger then?\n",
            "  KING RICHARD. Ay, but not to know what thou dost tak\n"
          ]
        }
      ],
      "source": [
        "# --- 4. Generate Text ---\n",
        "print(f\"\\n--- Generating Shakespeare-like text ---\")\n",
        "\n",
        "# You can change the starting prompt\n",
        "# start_string = \"JULIET:\\nO Romeo, Romeo! wherefore art thou Romeo?\\n\"\n",
        "# start_string = \"To be, or not to be, that is the question:\\n\"\n",
        "start_string = \"The king is dead!\"\n",
        "\n",
        "print(f\"Starting prompt: '{start_string.strip()}'\")\n",
        "\n",
        "start_ids = loaded_tokenizer.encode(start_string)\n",
        "# Unsqueeze to add batch dimension: (seq_len) -> (1, seq_len)\n",
        "x_input = torch.tensor(start_ids, dtype=torch.long, device=DEVICE).unsqueeze(0)\n",
        "\n",
        "# Generate text\n",
        "model.eval() # Set model to evaluation mode for generation\n",
        "with torch.no_grad(): # No need to track gradients during generation\n",
        "    generated_ids = model.generate(x_input,\n",
        "                                   max_new_tokens=1000,\n",
        "                                   temperature=0.8, # Controls randomness: lower is less random, higher is more random\n",
        "                                   top_k=20)       # Considers only the top_k most likely tokens at each step\n",
        "\n",
        "generated_text = loaded_tokenizer.decode(generated_ids[0].tolist()) # Decode the first (and only) batch item\n",
        "print(\"\\n--- Generated Text ---\")\n",
        "print(generated_text)"
      ]
    },
    {
      "cell_type": "code",
      "execution_count": 26,
      "metadata": {
        "colab": {
          "base_uri": "https://localhost:8080/",
          "height": 564
        },
        "id": "fhFw5opUSBFA",
        "outputId": "1d128214-f018-4358-db45-73c03ba962f4"
      },
      "outputs": [
        {
          "output_type": "display_data",
          "data": {
            "text/plain": [
              "<Figure size 1000x600 with 1 Axes>"
            ],
            "image/png": "[encoded data removed]"
          },
          "metadata": {}
        }
      ],
      "source": [
        "import matplotlib.pyplot as plt\n",
        "\n",
        "if train_loss_history and val_loss_history:\n",
        "    plt.figure(figsize=(10, 6))\n",
        "    plt.plot(iter_history, train_loss_history, label='Training Loss')\n",
        "    plt.plot(iter_history, val_loss_history, label='Validation Loss')\n",
        "    plt.xlabel(f'Iteration (x{1})') # Since iter_history stores actual iteration numbers\n",
        "    plt.ylabel('Loss')\n",
        "    plt.title('Training and Validation Loss Over Iterations')\n",
        "    plt.legend()\n",
        "    plt.grid(True)\n",
        "    plt.show()\n",
        "else:\n",
        "    print(\"No loss history to plot. Did training run?\")"
      ]
    },
    {
      "cell_type": "markdown",
      "metadata": {
        "id": "-xrUrvc3XZeg"
      },
      "source": [
        "## Further Exploration!\n",
        "\n",
        "**1. Hyperparameter Tuning:**\n",
        "    *   Experiment with `LEARNING_RATE`, `N_LAYER`, `N_HEAD`, `N_EMBD`, `DROPOUT`. How do these changes affect training speed, final validation loss, and the quality of generated text?\n",
        "    *   What happens if you significantly increase `MAX_ITERS` (and adjust `EARLY_STOPPING_PATIENCE` if needed)? Can you get a lower validation loss? (Be mindful of Colab time limits).\n",
        "    *   Try different `temperature` and `top_k` values during generation. How does it change the output?\n",
        "\n",
        "**7. More Exercises:**\n",
        "        *   How does weight initialization affect training?\n",
        "        *   What if you remove positional embeddings?\n",
        "        *   Can you train on a different small text dataset?\n",
        "\n"
      ]
    },
    {
      "cell_type": "markdown",
      "metadata": {
        "id": "P1TLO6gYp5x-"
      },
      "source": [
        "## Bonus: Saving and Loading Your Trained Model\n",
        "\n",
        "Here's how we can permanently save your model and load it back:\n",
        "\n",
        "#### Downloading the Model to Your Local Computer\n",
        "\n",
        "Once training is complete and `best_shakespeare_model.pth` has been saved by the script:\n",
        "\n",
        "1.  **Locate the File:** In the Colab interface, click on the \"Files\" icon (looks like a folder) in the left sidebar. You should see `best_shakespeare_model.pth` listed.\n",
        "2.  **Download:** Right-click on `best_shakespeare_model.pth` and select \"Download\". The file will be saved to your computer's default downloads folder.\n",
        "\n",
        "To load this model back into a *new* Colab session (or on your local machine if you have PyTorch set up):\n",
        "1.  Upload the `.pth` file back to the Colab session (using the \"Upload to session storage\" button in the Files tab).\n",
        "2.  Then, in your code, you can load it (make sure your model architecture is defined first):\n",
        "    ```python\n",
        "    # # --- Code to define the GPT model and GPTConfig must be run first ---\n",
        "    # model_config = GPTConfig(vocab_size=vocab_size, ...) # Use the same config as training\n",
        "    # model = GPT(model_config)\n",
        "    # model.to(DEVICE)\n",
        "    #\n",
        "    # # Load the state dictionary\n",
        "    # model_path = 'best_shakespeare_model.pth' # Or whatever you named it when uploading\n",
        "    # if os.path.exists(model_path):\n",
        "    #     model.load_state_dict(torch.load(model_path, map_location=DEVICE))\n",
        "    #     model.eval() # Set to evaluation mode\n",
        "    #     print(f\"Model loaded from {model_path}\")\n",
        "    # else:\n",
        "    #     print(f\"Model file not found at {model_path}\")\n",
        "    ```\n",
        "\n",
        "\n"
      ]
    },
    {
      "cell_type": "code",
      "execution_count": null,
      "metadata": {
        "id": "0v26ISDuSEoo"
      },
      "outputs": [],
      "source": []
    }
  ],
  "metadata": {
    "accelerator": "GPU",
    "colab": {
      "gpuType": "A100",
      "provenance": []
    },
    "kernelspec": {
      "display_name": "Python 3",
      "name": "python3"
    },
    "language_info": {
      "codemirror_mode": {
        "name": "ipython",
        "version": 3
      },
      "file_extension": ".py",
      "mimetype": "text/x-python",
      "name": "python",
      "nbconvert_exporter": "python",
      "pygments_lexer": "ipython3",
      "version": "3.11.11"
    }
  },
  "nbformat": 4,
  "nbformat_minor": 0
}