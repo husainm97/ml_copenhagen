{
 "cells": [
  {
   "cell_type": "code",
   "execution_count": 3,
   "id": "56c4393d",
   "metadata": {},
   "outputs": [
    {
     "name": "stdout",
     "output_type": "stream",
     "text": [
      "Starting PyTorch CUDA stress test for 120 seconds...\n",
      "Device is cuda.\n"
     ]
    },
    {
     "ename": "KeyboardInterrupt",
     "evalue": "",
     "output_type": "error",
     "traceback": [
      "\u001b[31m---------------------------------------------------------------------------\u001b[39m",
      "\u001b[31mKeyboardInterrupt\u001b[39m                         Traceback (most recent call last)",
      "\u001b[36mCell\u001b[39m\u001b[36m \u001b[39m\u001b[32mIn[3]\u001b[39m\u001b[32m, line 21\u001b[39m\n\u001b[32m     17\u001b[39m         torch.cuda.synchronize()\n\u001b[32m     19\u001b[39m     \u001b[38;5;28mprint\u001b[39m(\u001b[33m\"\u001b[39m\u001b[33mStress test complete.\u001b[39m\u001b[33m\"\u001b[39m)\n\u001b[32m---> \u001b[39m\u001b[32m21\u001b[39m \u001b[43mstress_gpu_torch\u001b[49m\u001b[43m(\u001b[49m\u001b[32;43m120\u001b[39;49m\u001b[43m)\u001b[49m  \u001b[38;5;66;03m# Run for 2 minutes\u001b[39;00m\n",
      "\u001b[36mCell\u001b[39m\u001b[36m \u001b[39m\u001b[32mIn[3]\u001b[39m\u001b[32m, line 17\u001b[39m, in \u001b[36mstress_gpu_torch\u001b[39m\u001b[34m(duration_sec)\u001b[39m\n\u001b[32m     15\u001b[39m     c = torch.matmul(a, b)\n\u001b[32m     16\u001b[39m     \u001b[38;5;66;03m# Force sync to ensure GPU actually processes it\u001b[39;00m\n\u001b[32m---> \u001b[39m\u001b[32m17\u001b[39m     \u001b[43mtorch\u001b[49m\u001b[43m.\u001b[49m\u001b[43mcuda\u001b[49m\u001b[43m.\u001b[49m\u001b[43msynchronize\u001b[49m\u001b[43m(\u001b[49m\u001b[43m)\u001b[49m\n\u001b[32m     19\u001b[39m \u001b[38;5;28mprint\u001b[39m(\u001b[33m\"\u001b[39m\u001b[33mStress test complete.\u001b[39m\u001b[33m\"\u001b[39m)\n",
      "\u001b[36mFile \u001b[39m\u001b[32m~/miniconda3/envs/ml_copenhagen_env/lib/python3.11/site-packages/torch/cuda/__init__.py:954\u001b[39m, in \u001b[36msynchronize\u001b[39m\u001b[34m(device)\u001b[39m\n\u001b[32m    952\u001b[39m _lazy_init()\n\u001b[32m    953\u001b[39m \u001b[38;5;28;01mwith\u001b[39;00m torch.cuda.device(device):\n\u001b[32m--> \u001b[39m\u001b[32m954\u001b[39m     \u001b[38;5;28;01mreturn\u001b[39;00m \u001b[43mtorch\u001b[49m\u001b[43m.\u001b[49m\u001b[43m_C\u001b[49m\u001b[43m.\u001b[49m\u001b[43m_cuda_synchronize\u001b[49m\u001b[43m(\u001b[49m\u001b[43m)\u001b[49m\n",
      "\u001b[31mKeyboardInterrupt\u001b[39m: "
     ]
    }
   ],
   "source": [
    "import torch\n",
    "import time\n",
    "\n",
    "def stress_gpu_torch(duration_sec=60):\n",
    "    print(f\"Starting PyTorch CUDA stress test for {duration_sec} seconds...\")\n",
    "    device = torch.device(\"cuda\" if torch.cuda.is_available() else \"cpu\")\n",
    "    print(f'Device is {device}.')\n",
    "    size = (4096, 4096)\n",
    "    a = torch.randn(size, device=device)\n",
    "    b = torch.randn(size, device=device)\n",
    "\n",
    "    end_time = time.time() + duration_sec\n",
    "    while time.time() < end_time:\n",
    "        # Do some heavy matrix multiplication\n",
    "        c = torch.matmul(a, b)\n",
    "        # Force sync to ensure GPU actually processes it\n",
    "        torch.cuda.synchronize()\n",
    "\n",
    "    print(\"Stress test complete.\")\n",
    "\n",
    "stress_gpu_torch(120)  # Run for 2 minutes\n"
   ]
  },
  {
   "cell_type": "code",
   "execution_count": null,
   "id": "24c9cf23",
   "metadata": {},
   "outputs": [],
   "source": [
    "import numpy as np\n",
    "\n",
    "# Path to your .npy file\n",
    "filepath = r\"C:\\Users\\Husain\\mac_backup\\Users\\husainmanasawala\\Desktop\\VTOF_Numpy\\some\\subdir\\your_file.npy\"\n",
    "\n",
    "# Load the NumPy array\n",
    "data = np.load(filepath)\n",
    "\n",
    "# Print summary and content\n",
    "print(\"Shape:\", data.shape)\n",
    "print(\"Dtype:\", data.dtype)\n",
    "print(\"First few rows:\")\n",
    "print(data[:5])  # Show first 5 rows\n"
   ]
  }
 ],
 "metadata": {
  "kernelspec": {
   "display_name": "ml_copenhagen_env",
   "language": "python",
   "name": "python3"
  },
  "language_info": {
   "codemirror_mode": {
    "name": "ipython",
    "version": 3
   },
   "file_extension": ".py",
   "mimetype": "text/x-python",
   "name": "python",
   "nbconvert_exporter": "python",
   "pygments_lexer": "ipython3",
   "version": "3.11.11"
  }
 },
 "nbformat": 4,
 "nbformat_minor": 5
}
